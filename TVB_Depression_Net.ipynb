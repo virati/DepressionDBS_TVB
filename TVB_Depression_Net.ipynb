{
 "cells": [
  {
   "cell_type": "markdown",
   "metadata": {},
   "source": [
    "# Depression Network Modeling in TVB\n",
    "\n",
    "### Introduction\n",
    "In this notebook we outline the project to develop a network model of the depression network directly modulated by SCCwm-DBS. This model will serve as the foundation for many projects, but the immediate goal is for it to be used in improving classification accurace in SCCwm-DBS confirmation.\n",
    "\n",
    "\n",
    "### First steps\n",
    "\n",
    "#### Building the network model\n",
    "First, we build a network model using the standard connectivity (192 parcellation).\n",
    "\n",
    "#### Visualizing and forward modeling\n",
    "Next, we visualize the model in the context of the 256-channel EEG recording setup. Part of this is to develop a gain model for the forward modeled EEG from the brain activity.\n",
    "\n",
    "\n"
   ]
  }
 ],
 "metadata": {
  "kernelspec": {
   "display_name": "Python 3",
   "language": "python",
   "name": "python3"
  },
  "language_info": {
   "codemirror_mode": {
    "name": "ipython",
    "version": 3
   },
   "file_extension": ".py",
   "mimetype": "text/x-python",
   "name": "python",
   "nbconvert_exporter": "python",
   "pygments_lexer": "ipython3",
   "version": "3.7.0"
  }
 },
 "nbformat": 4,
 "nbformat_minor": 2
}
