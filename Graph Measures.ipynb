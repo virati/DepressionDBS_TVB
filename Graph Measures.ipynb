{
 "cells": [
  {
   "cell_type": "code",
   "execution_count": 6,
   "metadata": {},
   "outputs": [
    {
     "name": "stdout",
     "output_type": "stream",
     "text": [
      "Once deleted, variables cannot be recovered. Proceed (y/[n])? y\n"
     ]
    }
   ],
   "source": [
    "#RUN THIS BEFORE USING\n",
    "%reset\n",
    "%matplotlib inline\n",
    "import network_modules as nm\n",
    "import graph_measures as gm\n",
    "import numpy as np\n",
    "import matplotlib.pyplot as plt\n",
    "import ipywidgets as widgets\n",
    "from __future__ import print_function\n",
    "from ipywidgets import interact, interactive, fixed, interact_manual\n",
    "from IPython.display import display\n",
    "import networkx as nx\n",
    "import collections\n",
    "import scipy.signal as sig"
   ]
  },
  {
   "cell_type": "code",
   "execution_count": 7,
   "metadata": {},
   "outputs": [
    {
     "data": {
      "application/vnd.jupyter.widget-view+json": {
       "model_id": "5a6f91a48e8945029d91d24501ff04f0",
       "version_major": 2,
       "version_minor": 0
      },
      "text/plain": [
       "IntSlider(value=5, description='n', max=5000, step=50)"
      ]
     },
     "metadata": {},
     "output_type": "display_data"
    },
    {
     "data": {
      "application/vnd.jupyter.widget-view+json": {
       "model_id": "3edaa82f1c5047f0a05a60eb98952e55",
       "version_major": 2,
       "version_minor": 0
      },
      "text/plain": [
       "IntSlider(value=1, description='m', max=10, min=1)"
      ]
     },
     "metadata": {},
     "output_type": "display_data"
    },
    {
     "data": {
      "application/vnd.jupyter.widget-view+json": {
       "model_id": "5c4472608efe495d88fcec3200ed031c",
       "version_major": 2,
       "version_minor": 0
      },
      "text/plain": [
       "FloatSlider(value=1.0, description='a', max=10.0)"
      ]
     },
     "metadata": {},
     "output_type": "display_data"
    },
    {
     "data": {
      "application/vnd.jupyter.widget-view+json": {
       "model_id": "fc386bbbe60c4f7fb8d601705648c807",
       "version_major": 2,
       "version_minor": 0
      },
      "text/plain": [
       "FloatSlider(value=0.0, description='b', max=6.283185307179586)"
      ]
     },
     "metadata": {},
     "output_type": "display_data"
    },
    {
     "data": {
      "application/vnd.jupyter.widget-view+json": {
       "model_id": "8af8669ee9c746b1b260906a9501cfa1",
       "version_major": 2,
       "version_minor": 0
      },
      "text/plain": [
       "FloatSlider(value=0.0, description='c', max=1.0)"
      ]
     },
     "metadata": {},
     "output_type": "display_data"
    },
    {
     "data": {
      "application/vnd.jupyter.widget-view+json": {
       "model_id": "ae5cc6a799ed44e6b07fc9717d6c9bc1",
       "version_major": 2,
       "version_minor": 0
      },
      "text/plain": [
       "FloatSlider(value=1.0, description='K', max=10.0)"
      ]
     },
     "metadata": {},
     "output_type": "display_data"
    }
   ],
   "source": [
    "slider1 = widgets.IntSlider(min=0, max=5000, step=50, value= 5, description = 'n')\n",
    "slider2 = widgets.IntSlider(min=1, max=10, value=1, description = 'm')\n",
    "slider3 = widgets.FloatSlider(min=0, max=10, value=1, description = 'a')\n",
    "slider4 = widgets.FloatSlider(min=0, max=2*np.pi, value=0, description = 'b')\n",
    "slider5 = widgets.FloatSlider(min=0, max=1, value=0, description = 'c')\n",
    "slider6 = widgets.FloatSlider(min=0, max=10, value=1, description = 'K')\n",
    "display(slider1, slider2, slider3, slider4, slider5,slider6)"
   ]
  },
  {
   "cell_type": "code",
   "execution_count": 10,
   "metadata": {},
   "outputs": [
    {
     "name": "stdout",
     "output_type": "stream",
     "text": [
      "n =  1850\n",
      "m =  1\n"
     ]
    }
   ],
   "source": [
    "n = slider1.value\n",
    "m = slider2.value\n",
    "print('n = ',n)\n",
    "print('m = ',m)\n",
    "G = nx.barabasi_albert_graph(n, m)"
   ]
  },
  {
   "cell_type": "code",
   "execution_count": 11,
   "metadata": {},
   "outputs": [
    {
     "ename": "AttributeError",
     "evalue": "'DegreeView' object has no attribute 'items'",
     "output_type": "error",
     "traceback": [
      "\u001b[0;31m---------------------------------------------------------------------------\u001b[0m",
      "\u001b[0;31mAttributeError\u001b[0m                            Traceback (most recent call last)",
      "\u001b[0;32m<ipython-input-11-8a42f74b2c77>\u001b[0m in \u001b[0;36m<module>\u001b[0;34m()\u001b[0m\n\u001b[0;32m----> 1\u001b[0;31m \u001b[0mgm\u001b[0m\u001b[0;34m.\u001b[0m\u001b[0mdegree_distribution\u001b[0m\u001b[0;34m(\u001b[0m\u001b[0mG\u001b[0m\u001b[0;34m)\u001b[0m\u001b[0;34m\u001b[0m\u001b[0m\n\u001b[0m",
      "\u001b[0;32m~/Dropbox/projects/Research/DBSControl/TVB_dyn_net/graph_measures.py\u001b[0m in \u001b[0;36mdegree_distribution\u001b[0;34m(G)\u001b[0m\n\u001b[1;32m     15\u001b[0m \u001b[0;31m# plot degree distribution of graph\u001b[0m\u001b[0;34m\u001b[0m\u001b[0;34m\u001b[0m\u001b[0m\n\u001b[1;32m     16\u001b[0m \u001b[0;32mdef\u001b[0m \u001b[0mdegree_distribution\u001b[0m\u001b[0;34m(\u001b[0m\u001b[0mG\u001b[0m\u001b[0;34m)\u001b[0m\u001b[0;34m:\u001b[0m\u001b[0;34m\u001b[0m\u001b[0m\n\u001b[0;32m---> 17\u001b[0;31m     \u001b[0mdegree_sequence\u001b[0m \u001b[0;34m=\u001b[0m \u001b[0msorted\u001b[0m\u001b[0;34m(\u001b[0m\u001b[0;34m[\u001b[0m\u001b[0md\u001b[0m \u001b[0;32mfor\u001b[0m \u001b[0mn\u001b[0m\u001b[0;34m,\u001b[0m \u001b[0md\u001b[0m \u001b[0;32min\u001b[0m \u001b[0mG\u001b[0m\u001b[0;34m.\u001b[0m\u001b[0mdegree\u001b[0m\u001b[0;34m(\u001b[0m\u001b[0;34m)\u001b[0m\u001b[0;34m.\u001b[0m\u001b[0mitems\u001b[0m\u001b[0;34m(\u001b[0m\u001b[0;34m)\u001b[0m\u001b[0;34m]\u001b[0m\u001b[0;34m,\u001b[0m \u001b[0mreverse\u001b[0m \u001b[0;34m=\u001b[0m \u001b[0;32mTrue\u001b[0m\u001b[0;34m)\u001b[0m  \u001b[0;31m# degree sequence\u001b[0m\u001b[0;34m\u001b[0m\u001b[0m\n\u001b[0m\u001b[1;32m     18\u001b[0m     \u001b[0mdegreeCount\u001b[0m \u001b[0;34m=\u001b[0m \u001b[0mcollections\u001b[0m\u001b[0;34m.\u001b[0m\u001b[0mCounter\u001b[0m\u001b[0;34m(\u001b[0m\u001b[0mdegree_sequence\u001b[0m\u001b[0;34m)\u001b[0m\u001b[0;34m\u001b[0m\u001b[0m\n\u001b[1;32m     19\u001b[0m     \u001b[0mdeg\u001b[0m\u001b[0;34m,\u001b[0m \u001b[0mcnt\u001b[0m \u001b[0;34m=\u001b[0m \u001b[0mzip\u001b[0m\u001b[0;34m(\u001b[0m\u001b[0;34m*\u001b[0m\u001b[0mdegreeCount\u001b[0m\u001b[0;34m.\u001b[0m\u001b[0mitems\u001b[0m\u001b[0;34m(\u001b[0m\u001b[0;34m)\u001b[0m\u001b[0;34m)\u001b[0m\u001b[0;34m\u001b[0m\u001b[0m\n",
      "\u001b[0;31mAttributeError\u001b[0m: 'DegreeView' object has no attribute 'items'"
     ]
    }
   ],
   "source": [
    "gm.degree_distribution(G)"
   ]
  },
  {
   "cell_type": "code",
   "execution_count": 12,
   "metadata": {},
   "outputs": [
    {
     "ename": "TypeError",
     "evalue": "__init__() got multiple values for argument 'dt'",
     "output_type": "error",
     "traceback": [
      "\u001b[0;31m---------------------------------------------------------------------------\u001b[0m",
      "\u001b[0;31mTypeError\u001b[0m                                 Traceback (most recent call last)",
      "\u001b[0;32m<ipython-input-12-0978cd7c49b8>\u001b[0m in \u001b[0;36m<module>\u001b[0;34m()\u001b[0m\n\u001b[1;32m     25\u001b[0m \u001b[0mN\u001b[0m \u001b[0;34m=\u001b[0m \u001b[0;36m0\u001b[0m \u001b[0;31m#Noise Variance\u001b[0m\u001b[0;34m\u001b[0m\u001b[0m\n\u001b[1;32m     26\u001b[0m \u001b[0;34m\u001b[0m\u001b[0m\n\u001b[0;32m---> 27\u001b[0;31m \u001b[0moscillator\u001b[0m \u001b[0;34m=\u001b[0m \u001b[0mnm\u001b[0m\u001b[0;34m.\u001b[0m\u001b[0mnmodel\u001b[0m\u001b[0;34m(\u001b[0m\u001b[0mG\u001b[0m\u001b[0;34m,\u001b[0m\u001b[0mx\u001b[0m\u001b[0;34m,\u001b[0m\u001b[0mh\u001b[0m\u001b[0;34m,\u001b[0m\u001b[0mf\u001b[0m\u001b[0;34m,\u001b[0m\u001b[0mM\u001b[0m\u001b[0;34m,\u001b[0m\u001b[0mN\u001b[0m\u001b[0;34m,\u001b[0m\u001b[0mdt\u001b[0m\u001b[0;34m=\u001b[0m\u001b[0;36m.01\u001b[0m\u001b[0;34m)\u001b[0m\u001b[0;34m\u001b[0m\u001b[0m\n\u001b[0m\u001b[1;32m     28\u001b[0m \u001b[0moscillator\u001b[0m\u001b[0;34m.\u001b[0m\u001b[0mrun\u001b[0m\u001b[0;34m(\u001b[0m\u001b[0;36m10\u001b[0m\u001b[0;34m)\u001b[0m\u001b[0;34m\u001b[0m\u001b[0m\n\u001b[1;32m     29\u001b[0m \u001b[0mnm\u001b[0m\u001b[0;34m.\u001b[0m\u001b[0mstate_course\u001b[0m\u001b[0;34m(\u001b[0m\u001b[0mnp\u001b[0m\u001b[0;34m.\u001b[0m\u001b[0mreal\u001b[0m\u001b[0;34m(\u001b[0m\u001b[0mnm\u001b[0m\u001b[0;34m.\u001b[0m\u001b[0mreduce_state\u001b[0m\u001b[0;34m(\u001b[0m\u001b[0;36m0\u001b[0m\u001b[0;34m,\u001b[0m\u001b[0moscillator\u001b[0m\u001b[0;34m.\u001b[0m\u001b[0mx\u001b[0m\u001b[0;34m)\u001b[0m\u001b[0;34m)\u001b[0m\u001b[0;34m)\u001b[0m\u001b[0;34m\u001b[0m\u001b[0m\n",
      "\u001b[0;31mTypeError\u001b[0m: __init__() got multiple values for argument 'dt'"
     ]
    }
   ],
   "source": [
    "#Parameter Initialization\n",
    "\n",
    "#first distribution for phase of limit cycle, second distribution for amplitude + standard deviation\n",
    "states = nm.create_vec_states([(n,0,2*np.pi,'uniform'),(n,10,2,'normal')])\n",
    "#convert polar to rectangular coordinates\n",
    "phase = np.array([np.cos(states[:,0]) + 1j * np.sin(states[:,0])])\n",
    "#create correct state matrix\n",
    "x = np.array([amp*theta for amp,theta in zip(states[:,1],phase)]).T\n",
    "\n",
    "#curry node function to be unique to each node: each node has a unique intrinsic frequency and amplitude\n",
    "def currynode(w,a):\n",
    "    def node(x):   #node function\n",
    "        return np.array([x[0]*(1j * w + (a-abs(x[0])**2))]) # apply limit cycle term to keep in a circle\n",
    "    return node\n",
    "\n",
    "parameters = nm.create_vec_states([(n,10,2,'normal'),(n,10,2,'normal')])\n",
    "# w : intrinsic freq. a : limit cycle amplitude\n",
    "h = [currynode(w,a) for w,a in zip(states[:,0],states[:,1])]\n",
    "\n",
    "def f(x,y): #coupling function\n",
    "\n",
    "    return np.array([y[0]-x[0]])\n",
    "\n",
    "M = np.identity(n) #Measurement Matrix\n",
    "N = 0 #Noise Variance\n",
    "\n",
    "oscillator = nm.nmodel(G,x,h,f,M,N,dt=.01)\n",
    "oscillator.run(10)\n",
    "nm.state_course(np.real(nm.reduce_state(0,oscillator.x)))"
   ]
  },
  {
   "cell_type": "code",
   "execution_count": null,
   "metadata": {},
   "outputs": [],
   "source": [
    "def frange(start, stop, step):  \n",
    "    i = start\n",
    "    while i < stop:\n",
    "        yield i\n",
    "        i += step\n",
    "        \n",
    "@interact(off = (0.0,2*np.pi))\n",
    "def f(off):\n",
    "    x = np.array([np.cos(x) + 1j*np.sin(x) for x in frange(0,4*np.pi,.1)])\n",
    "    y = np.array([np.cos(x + off) + 1j*np.sin(x + off) for x in frange(0,4*np.pi,.1)])\n",
    "    plt.figure()\n",
    "    plt.plot(np.array(x)[0])\n",
    "    plt.plot(np.array(y)[0])\n",
    "    plt.show()\n",
    "    print(gm.correlation(x,y))\n",
    "    "
   ]
  },
  {
   "cell_type": "code",
   "execution_count": null,
   "metadata": {},
   "outputs": [],
   "source": [
    "#f, t, s = sig.spectrogram(signal, fs = 1000, window, nperseg, noverlap, nfft)\n",
    "#f, Pxx = sig.welch(signal, fs = 1000, window, nperseg, noverlap, nfft)\n",
    "#import pywt\n",
    "#cA, cD = pywt.dwt([1, 2, 3, 4], 'db1') - Direct Wavelet Transform"
   ]
  },
  {
   "cell_type": "code",
   "execution_count": null,
   "metadata": {},
   "outputs": [],
   "source": [
    "def create_random_matrix(n,p):\n",
    "    A = np.zeros((n,n))\n",
    "    for i in range(n):\n",
    "        A[i,i] = 0\n",
    "        for j in range(i+1,n):\n",
    "            if np.random.random() < p:\n",
    "                A[i,j] = 1\n",
    "                A[j,i] = 1\n",
    "    return A\n",
    "n = 25\n",
    "N = 10000\n",
    "d = []\n",
    "for m in range(N):\n",
    "    A = create_random_matrix(n,.5)\n",
    "    B = create_random_matrix(n,.5)\n",
    "    d.append(sum(sum(A))/n**2)\n",
    "plt.figure()\n",
    "plt.hist(d,100)\n",
    "plt.xlim(0,1)\n",
    "plt.show()"
   ]
  },
  {
   "cell_type": "code",
   "execution_count": null,
   "metadata": {},
   "outputs": [],
   "source": [
    "import module_main as mm\n",
    "def offset_sinusoid(off,compare):\n",
    "    x = np.array([np.cos(x) + 1j*np.sin(x) for x in frange(0,4*np.pi,.01)])\n",
    "    y = np.array([np.cos(x + off) + 1j*np.sin(x + off) for x in frange(0,4*np.pi,.01)])\n",
    "    #X = np.stack((x,y),0)\n",
    "    return compare(np.real(x),np.real(y))\n",
    "diff = []\n",
    "for off in frange(0,2*np.pi,.1):\n",
    "    diff.append(offset_sinusoid(off, lambda X,Y: np.mean(sig.coherence(X,Y)[1])))\n",
    "plt.figure()\n",
    "phase = [x for x in frange(0,2*np.pi,.1)] \n",
    "plt.plot(phase,diff)\n",
    "plt.show()"
   ]
  },
  {
   "cell_type": "code",
   "execution_count": null,
   "metadata": {},
   "outputs": [],
   "source": [
    "def DTF_func(X):\n",
    "    X = np.real(X) \n",
    "    p = 2\n",
    "    A = gm.MVAR_fit(X,p)\n",
    "    P, freq = gm.DTF(A)\n",
    "    return np.mean(np.mean(P))\n",
    "def PDC_func(X):\n",
    "    X = np.real(X) \n",
    "    p = 2\n",
    "    A = gm.MVAR_fit(X,p)\n",
    "    P, freq = gm.PDC(A)\n",
    "    return np.mean(np.mean(P))"
   ]
  },
  {
   "cell_type": "code",
   "execution_count": null,
   "metadata": {
    "scrolled": false
   },
   "outputs": [],
   "source": [
    "coherence = lambda X,Y: max(sig.coherence(X,Y)[1])\n",
    "nodes = [0,1,2,3,4,5]\n",
    "Graphh = nx.Graph()\n",
    "Graphh.add_nodes_from(nodes)\n",
    "Graphh.add_edges_from([(0,1)])\n",
    "def h(x):\n",
    "    return -x*np.sin(x)\n",
    "def f(x,y):\n",
    "    return y\n",
    "Matrix = np.identity(6)\n",
    "Noise = 0\n",
    "state = [[1],[2],[3],[4],[5],[6]]\n",
    "tester = nm.nmodel(Graphh,state,h,f,Matrix,Noise,dt=.01)\n",
    "tester.run(3)\n",
    "nm.state_course(tester.x[:,0,:])\n",
    "print(gm.cross_func(tester.x[:,0,:], gm.coherence))\n",
    "#print(mm.DTF_func(tester.x[:,0,:]))\n",
    "#print(gm.partial_method(tester.x[:,0,:],gm.r2))"
   ]
  },
  {
   "cell_type": "code",
   "execution_count": null,
   "metadata": {},
   "outputs": [],
   "source": [
    "scale = 1\n",
    "noisy_x = add_noise(oscillator.x,1)\n",
    "#plt.plot(np.real(oscillator.x[0,0,:]))\n",
    "plt.plot(np.real(noisy_x[0,0,:]))\n",
    "plt.show()\n",
    "add_noise = lambda X,dev: X + np.random.normal(0,dev,X.shape) + 1j*np.random.normal(0,dev,X.shape)\n",
    "1j\n"
   ]
  },
  {
   "cell_type": "code",
   "execution_count": null,
   "metadata": {
    "scrolled": true
   },
   "outputs": [],
   "source": [
    "import pickle\n",
    "with open('measure_normal' , 'rb') as pickle_data:\n",
    "    measure_normal = np.array(pickle.load(pickle_data))\n",
    "    x = measure_normal[0]\n",
    "    print(x.shape)\n",
    "    plt.figure()\n",
    "    for mat in x:\n",
    "        plt.imshow(mat, interpolation= \"nearest\")\n",
    "        plt.show()"
   ]
  },
  {
   "cell_type": "code",
   "execution_count": null,
   "metadata": {},
   "outputs": [],
   "source": [
    "with open('adj_data' , 'rb') as pickle_data:\n",
    "    adj_data = np.array(pickle.load(pickle_data))\n",
    "    with open('measure_normal' , 'rb') as pickle_data_2:\n",
    "        measure_normal = np.array(pickle.load(pickle_data_2))\n",
    "        x = measure_normal[0]\n",
    "        plt.figure()\n",
    "        for mat in x:\n",
    "            plt.plot(adj_data.flatten(),mat.flatten(),'.')\n",
    "            plt.show()\n",
    "            "
   ]
  },
  {
   "cell_type": "code",
   "execution_count": null,
   "metadata": {},
   "outputs": [],
   "source": [
    "import module_main as mm\n",
    "import pickle\n",
    "\n",
    "print('Running main')    \n",
    "\n",
    "    #run n monte carlo simulations for time t get adjacency and time series data\n",
    "time_data = []\n",
    "adj_data = []\n",
    "n = 1\n",
    "for i in range(n):\n",
    "    oscillator  = mm.generate_model()\n",
    "    t = 20\n",
    "    oscillator.run(t)\n",
    "    time_data.append(oscillator.x)\n",
    "    adj_data.append(nx.to_numpy_matrix(oscillator.G))\n",
    "with open('time_data' ,'wb') as f:\n",
    "    pickle.dump(time_data,f)\n",
    "with open('adj_data', 'wb') as f:\n",
    "    pickle.dump(adj_data,f)\n",
    "\n",
    "print('Models Generated')\n",
    "adj_data = []"
   ]
  },
  {
   "cell_type": "code",
   "execution_count": null,
   "metadata": {
    "scrolled": true
   },
   "outputs": [],
   "source": [
    "#generate connectivity matrixes for each measure for normal\n",
    "with open('time_data' , 'rb') as pickle_data:\n",
    "    trial = np.array(pickle.load(pickle_data))[0]\n",
    "    noise = [.01,.1,1]\n",
    "    trial_data = []\n",
    "    for func in mm.list_of_measures:\n",
    "            trial_data.append(func(trial[:,0,:]))\n",
    "    adj_data.append(trial_data)\n",
    "    for n in noise:\n",
    "        trial_data = []\n",
    "        noise_data = mm.add_noise(trial,n)\n",
    "        for func in mm.list_of_measures:\n",
    "            trial_data.append(func(noise_data[:,0,:]))\n",
    "        adj_data.append(trial_data)\n",
    "print(adj_data.shape)"
   ]
  },
  {
   "cell_type": "code",
   "execution_count": null,
   "metadata": {},
   "outputs": [],
   "source": []
  },
  {
   "cell_type": "code",
   "execution_count": null,
   "metadata": {},
   "outputs": [],
   "source": [
    "with open('time_data' , 'rb') as pickle_data:\n",
    "    trial = np.array(pickle.load(pickle_data))[0]\n",
    "    print(trial.shape)\n",
    "    mm.add_noise(trial,.01)"
   ]
  },
  {
   "cell_type": "code",
   "execution_count": null,
   "metadata": {
    "scrolled": true
   },
   "outputs": [],
   "source": [
    "plt.figure()\n",
    "with open('adj_data' , 'rb') as pickle_data:\n",
    "    adj = np.array(pickle.load(pickle_data))[0]\n",
    "    plt.imshow(adj, interpolation= \"nearest\")\n",
    "    plt.show()\n",
    "    i = 1\n",
    "for mat in adj_data:\n",
    "    print(i)\n",
    "    i += 1\n",
    "    plt.imshow(mat, interpolation= \"nearest\")\n",
    "    plt.show()"
   ]
  },
  {
   "cell_type": "code",
   "execution_count": null,
   "metadata": {
    "scrolled": true
   },
   "outputs": [],
   "source": [
    "n_data = []\n",
    "with open('adj_data' , 'rb') as pickle_data:\n",
    "    adj = np.array(pickle.load(pickle_data))[0]\n",
    "    n_data.append(gm.distance(adj,create_random_matrix(25,.5)))\n",
    "    print(sim_data[0])\n",
    "    plt.figure()\n",
    "    for mat in adj_data[1]:\n",
    "        plt.plot(adj.flatten(),mat.flatten(),'.')\n",
    "        plt.show()\n",
    "        thr = mm.gen_threshold(adj,mat)\n",
    "        print(thr)\n",
    "        arr = mm.thresh_array(mat,thr)\n",
    "        print(gm.distance(adj,mat))\n",
    "        n_data.append(gm.distance(adj,mat))\n",
    "        plt.show()"
   ]
  },
  {
   "cell_type": "code",
   "execution_count": null,
   "metadata": {},
   "outputs": [],
   "source": [
    "labels = range(len(sim_data))\n",
    "ax = plt.bar(labels, sim_data)\n",
    "plt.xticks(range(len(sim_data)), range(len(sim_data)))\n",
    "plt.xlabel('Measures')\n",
    "plt.ylabel('Similarity Constant')\n",
    "plt.title('Accuracy of Measures')\n",
    "plt.gca().set_ylim((0,1))\n",
    "fig = plt.gcf()"
   ]
  },
  {
   "cell_type": "code",
   "execution_count": null,
   "metadata": {
    "scrolled": false
   },
   "outputs": [],
   "source": [
    " def sparse_BA(n, lam, bias):\n",
    "    G = nx.Graph()\n",
    "    G.add_nodes_from(range(n))\n",
    "    for node in G:\n",
    "        n_edges = round(np.random.poisson(lam))\n",
    "        if node != 0:\n",
    "            if n_edges >= node:\n",
    "                i_vec = [node] * node\n",
    "                j_vec = range(node)\n",
    "                G.add_edges_from([(i,j) for i,j in zip(i_vec,j_vec)])\n",
    "            else:\n",
    "                i_vec = [node] * n_edges\n",
    "                j_vec = []\n",
    "                degrees = np.array(list(nx.degree(G).values())) + bias\n",
    "                degrees = (degrees)/sum(degrees)\n",
    "                cs = np.cumsum(degrees)\n",
    "                for i in range(node):\n",
    "                    r = np.random.random()\n",
    "                    larger = cs >= r\n",
    "                    for j in range(len(larger)):\n",
    "                        if larger[j]:\n",
    "                            j_vec.append(j)\n",
    "                            break\n",
    "                G.add_edges_from([(i,j) for i,j in zip(i_vec,j_vec)])\n",
    "                \n",
    "    return G\n",
    "G = sparse_BA(50,.7,10)\n",
    "nx.draw(G)"
   ]
  },
  {
   "cell_type": "code",
   "execution_count": null,
   "metadata": {},
   "outputs": [],
   "source": [
    "# generate Wilson Cowan model (each node has E/I states)\n",
    "def generate_WC_model(G):\n",
    "    "
   ]
  }
 ],
 "metadata": {
  "anaconda-cloud": {},
  "kernelspec": {
   "display_name": "Python 3",
   "language": "python",
   "name": "python3"
  },
  "language_info": {
   "codemirror_mode": {
    "name": "ipython",
    "version": 3
   },
   "file_extension": ".py",
   "mimetype": "text/x-python",
   "name": "python",
   "nbconvert_exporter": "python",
   "pygments_lexer": "ipython3",
   "version": "3.7.0"
  }
 },
 "nbformat": 4,
 "nbformat_minor": 1
}
