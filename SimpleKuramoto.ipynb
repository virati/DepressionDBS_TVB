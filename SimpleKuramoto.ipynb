{
 "cells": [
  {
   "cell_type": "markdown",
   "metadata": {},
   "source": [
    "# Simple Kuramoto Modeling\n",
    "## From Scratch\n",
    "\n",
    "### Introduction\n",
    "In this notebook we'll set up and work with a very simple kuramoto model of a set of $N$ brain regions, each with $k$ phase elements. We'll then embed this network into a 3D representation of the brain and EEG recording channels.\n",
    "\n",
    "\n",
    "\n",
    "### Building the model\n",
    "\n",
    "We'll start by importing the needed libraries. Since we are doing this from scratch, we won't bring in the TVB modules in this notebook."
   ]
  },
  {
   "cell_type": "code",
   "execution_count": 7,
   "metadata": {},
   "outputs": [],
   "source": [
    "import networkx as nx\n",
    "import numpy as np\n",
    "#import mne\n",
    "import matplotlib.pyplot as plt"
   ]
  },
  {
   "cell_type": "code",
   "execution_count": 9,
   "metadata": {},
   "outputs": [],
   "source": [
    "cfreq_loc = 14\n",
    "cfreq_spread = 4"
   ]
  },
  {
   "cell_type": "code",
   "execution_count": 10,
   "metadata": {},
   "outputs": [],
   "source": [
    "\n",
    "class KModel:\n",
    "    def __init__(self,cfreq=(14,4),N=6,k=100):\n",
    "        self.cfreq = cfreq\n",
    "        self.N = N\n",
    "        self.k = k\n",
    "        \n",
    "        self.state = np.ones((N*k,1))\n",
    "        \n",
    "        self.init_network(L=np.zeros((N,N)))\n",
    "        \n",
    "        self.full_Laplacian = 1 #need a function here that transforms from NxN to NxN block matrix where each element is a kxk matrix\n",
    "        \n",
    "        \n",
    "    def init_network(self,L):\n",
    "        self.G = nx.Graph()\n",
    "        for ii in range(self.N):\n",
    "            self.G.add_node(ii)\n",
    "            \n",
    "            \n",
    "    def run_sim(self):\n",
    "        tvect = np.linspace(0,100,1000)\n",
    "        for tt in tvect:\n",
    "            self.state += -self.state\n",
    "        \n",
    "            \n",
    "            \n",
    "Depr_Net = KModel()"
   ]
  }
 ],
 "metadata": {
  "kernelspec": {
   "display_name": "Python 2",
   "language": "python",
   "name": "python2"
  },
  "language_info": {
   "codemirror_mode": {
    "name": "ipython",
    "version": 2
   },
   "file_extension": ".py",
   "mimetype": "text/x-python",
   "name": "python",
   "nbconvert_exporter": "python",
   "pygments_lexer": "ipython2",
   "version": "2.7.15"
  }
 },
 "nbformat": 4,
 "nbformat_minor": 2
}
