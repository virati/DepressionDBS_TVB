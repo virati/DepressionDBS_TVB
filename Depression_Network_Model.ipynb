{
 "cells": [
  {
   "cell_type": "markdown",
   "metadata": {},
   "source": [
    "# Depression Network Modeling in TVB\n",
    "\n",
    "### Introduction\n",
    "In this notebook we outline the project to develop a network model of the depression network directly modulated by SCCwm-DBS. This model will serve as the foundation for many projects, but the immediate goal is for it to be used in improving classification accurace in SCCwm-DBS confirmation.\n",
    "\n",
    "The purpose of this project is to develop a data-inspired and data-congruent dynamical network model for antidepressant DBS.\n",
    "\n",
    "Key design goals are to be able to reasonably swap between intrinsic dynamics models, swap between coupling hypothesies, switch the location of stimulation, and study the impact of typical control signals on the network's dynamics.\n",
    "\n",
    "Forward models will also be developed for this to enable simulated LFP and EEG.\n",
    "\n",
    "### First steps\n",
    "\n",
    "#### Preliminaries and Loading Libraries\n",
    "This notebook code runs on Python 2.7. The first step is to load libraries.\n",
    "\n",
    "#### Building the network model\n",
    "First, we build a network model using the standard connectivity (192 parcellation).\n",
    "\n",
    "\n",
    "#### Visualizing and forward modeling\n",
    "Next, we visualize the model in the context of the 256-channel EEG recording setup. Part of this is to develop a gain model for the forward modeled EEG from the brain activity.\n",
    "\n",
    "\n"
   ]
  }
 ],
 "metadata": {
  "kernelspec": {
   "display_name": "Python 2",
   "language": "python",
   "name": "python2"
  },
  "language_info": {
   "codemirror_mode": {
    "name": "ipython",
    "version": 2
   },
   "file_extension": ".py",
   "mimetype": "text/x-python",
   "name": "python",
   "nbconvert_exporter": "python",
   "pygments_lexer": "ipython2",
   "version": "2.7.15"
  }
 },
 "nbformat": 4,
 "nbformat_minor": 2
}
